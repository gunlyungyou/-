{
 "cells": [
  {
   "cell_type": "code",
   "execution_count": 1,
   "metadata": {},
   "outputs": [
    {
     "name": "stderr",
     "output_type": "stream",
     "text": [
      "C:\\Users\\rjsfu\\Anaconda3\\lib\\site-packages\\gensim\\utils.py:1209: UserWarning: detected Windows; aliasing chunkize to chunkize_serial\n",
      "  warnings.warn(\"detected Windows; aliasing chunkize to chunkize_serial\")\n"
     ]
    }
   ],
   "source": [
    "# gensim modules\n",
    "from gensim import utils\n",
    "from gensim.models.doc2vec import LabeledSentence\n",
    "from gensim.models import Doc2Vec\n",
    "from gensim.models import Word2Vec\n",
    "import gensim\n",
    "import nltk\n",
    "from nltk.corpus import stopwords \n",
    "from nltk.tokenize import word_tokenize \n",
    "from konlpy.utils import pprint\n",
    "import time\n",
    "from konlpy.tag import Kkma, Twitter, Komoran\n",
    "import csv\n",
    "from scipy import spatial\n",
    "import pyemd\n",
    "from datetime import datetime\n",
    "import pandas as pd\n",
    "import quandl\n",
    "import pickle\n",
    "\n",
    "# numpy\n",
    "import numpy as np\n",
    "\n",
    "#정규식\n",
    "import re\n",
    "\n",
    "# random\n",
    "from random import shuffle"
   ]
  },
  {
   "cell_type": "code",
   "execution_count": 4,
   "metadata": {},
   "outputs": [],
   "source": [
    "#kosac 점수 불러오기\n",
    "my_path = 'C:/Users/rjsfu/Dropbox/task/텍스트마이닝/관련 자료'\n",
    "\n",
    "with open(my_path + '/' + 'sentiscore_article_kosac' +'.csv', 'r', encoding = 'utf-8') as f:\n",
    "    doc = f.read()\n",
    "    article_kosac_sent = doc.split('\\n')\n",
    "    \n",
    "    \n",
    "with open(my_path + '/' + 'sentiscore_report_kosac' +'.csv', 'r', encoding = 'utf-8') as f:\n",
    "    doc = f.read()\n",
    "    report_kosac_sent = doc.split('\\n')"
   ]
  },
  {
   "cell_type": "code",
   "execution_count": 13,
   "metadata": {},
   "outputs": [
    {
     "ename": "IndexError",
     "evalue": "list index out of range",
     "output_type": "error",
     "traceback": [
      "\u001b[1;31m---------------------------------------------------------------------------\u001b[0m",
      "\u001b[1;31mIndexError\u001b[0m                                Traceback (most recent call last)",
      "\u001b[1;32m<ipython-input-13-f262b98a3da6>\u001b[0m in \u001b[0;36m<module>\u001b[1;34m\u001b[0m\n\u001b[0;32m      2\u001b[0m \u001b[1;32mfor\u001b[0m \u001b[0mi\u001b[0m \u001b[1;32min\u001b[0m \u001b[0mreport_kosac_sent\u001b[0m\u001b[1;33m:\u001b[0m\u001b[1;33m\u001b[0m\u001b[0m\n\u001b[0;32m      3\u001b[0m     \u001b[0mtemp\u001b[0m \u001b[1;33m=\u001b[0m \u001b[0mi\u001b[0m\u001b[1;33m.\u001b[0m\u001b[0msplit\u001b[0m\u001b[1;33m(\u001b[0m\u001b[1;34m','\u001b[0m\u001b[1;33m)\u001b[0m\u001b[1;33m\u001b[0m\u001b[0m\n\u001b[1;32m----> 4\u001b[1;33m     \u001b[0mreport_kosac_score\u001b[0m\u001b[1;33m.\u001b[0m\u001b[0mappend\u001b[0m\u001b[1;33m(\u001b[0m\u001b[0mtemp\u001b[0m\u001b[1;33m[\u001b[0m\u001b[1;36m4\u001b[0m\u001b[1;33m]\u001b[0m\u001b[1;33m)\u001b[0m\u001b[1;33m\u001b[0m\u001b[0m\n\u001b[0m\u001b[0;32m      5\u001b[0m \u001b[0mreport_kosac_score\u001b[0m \u001b[1;33m=\u001b[0m \u001b[0mreport_kosac_score\u001b[0m\u001b[1;33m[\u001b[0m\u001b[1;36m1\u001b[0m\u001b[1;33m:\u001b[0m\u001b[1;33m]\u001b[0m\u001b[1;33m\u001b[0m\u001b[0m\n\u001b[0;32m      6\u001b[0m \u001b[1;33m\u001b[0m\u001b[0m\n",
      "\u001b[1;31mIndexError\u001b[0m: list index out of range"
     ]
    }
   ],
   "source": [
    "report_kosac_score = []\n",
    "for i in report_kosac_sent:\n",
    "    temp = i.split(',')\n",
    "    report_kosac_score.append(temp[4])\n",
    "report_kosac_score = report_kosac_score[1:]"
   ]
  },
  {
   "cell_type": "code",
   "execution_count": 17,
   "metadata": {},
   "outputs": [
    {
     "ename": "IndexError",
     "evalue": "list index out of range",
     "output_type": "error",
     "traceback": [
      "\u001b[1;31m---------------------------------------------------------------------------\u001b[0m",
      "\u001b[1;31mIndexError\u001b[0m                                Traceback (most recent call last)",
      "\u001b[1;32m<ipython-input-17-e9382ba21f99>\u001b[0m in \u001b[0;36m<module>\u001b[1;34m\u001b[0m\n\u001b[0;32m      2\u001b[0m \u001b[1;32mfor\u001b[0m \u001b[0mi\u001b[0m \u001b[1;32min\u001b[0m \u001b[0marticle_kosac_sent\u001b[0m\u001b[1;33m:\u001b[0m\u001b[1;33m\u001b[0m\u001b[0m\n\u001b[0;32m      3\u001b[0m     \u001b[0mtemp\u001b[0m \u001b[1;33m=\u001b[0m \u001b[0mi\u001b[0m\u001b[1;33m.\u001b[0m\u001b[0msplit\u001b[0m\u001b[1;33m(\u001b[0m\u001b[1;34m','\u001b[0m\u001b[1;33m)\u001b[0m\u001b[1;33m\u001b[0m\u001b[0m\n\u001b[1;32m----> 4\u001b[1;33m     \u001b[0marticle_kosac_score\u001b[0m\u001b[1;33m.\u001b[0m\u001b[0mappend\u001b[0m\u001b[1;33m(\u001b[0m\u001b[0mtemp\u001b[0m\u001b[1;33m[\u001b[0m\u001b[1;36m3\u001b[0m\u001b[1;33m]\u001b[0m\u001b[1;33m)\u001b[0m\u001b[1;33m\u001b[0m\u001b[0m\n\u001b[0m\u001b[0;32m      5\u001b[0m \u001b[0marticle_kosac_score\u001b[0m \u001b[1;33m=\u001b[0m \u001b[0marticle_kosac_score\u001b[0m\u001b[1;33m[\u001b[0m\u001b[1;36m1\u001b[0m\u001b[1;33m:\u001b[0m\u001b[1;33m]\u001b[0m\u001b[1;33m\u001b[0m\u001b[0m\n",
      "\u001b[1;31mIndexError\u001b[0m: list index out of range"
     ]
    }
   ],
   "source": [
    "article_kosac_score = []\n",
    "for i in article_kosac_sent:\n",
    "    temp = i.split(',')\n",
    "    article_kosac_score.append(temp[3])\n",
    "article_kosac_score = article_kosac_score[1:]"
   ]
  },
  {
   "cell_type": "code",
   "execution_count": 21,
   "metadata": {},
   "outputs": [],
   "source": [
    "article_kosac_score = article_kosac_score[1:]"
   ]
  },
  {
   "cell_type": "code",
   "execution_count": 68,
   "metadata": {},
   "outputs": [],
   "source": [
    "article_kosac_score_LG디스플레이 = article_kosac_score[1:41]\n",
    "article_kosac_score_현대차 = article_kosac_score[41:81]\n",
    "article_kosac_score_현대중공업 =article_kosac_score[81:121]\n",
    "article_kosac_score_한국전력 = article_kosac_score[121:]\n",
    "\n",
    "report_kosac_score_LG디스플레이 = report_kosac_score[1:41]\n",
    "report_kosac_score_현대차 = report_kosac_score[41:81]\n",
    "report_kosac_score_현대중공업 =report_kosac_score[81:121]\n",
    "report_kosac_score_한국전력 = report_kosac_score[121:160]"
   ]
  },
  {
   "cell_type": "code",
   "execution_count": 24,
   "metadata": {},
   "outputs": [],
   "source": [
    "#주가 up&down 불러오기\n",
    "#주가의 up& down 불러오기\n",
    "my_path = 'C:/Users/rjsfu/Dropbox/task/텍스트마이닝/관련 자료'\n",
    "\n",
    "#######한국전력###########\n",
    "with open(my_path + '/' + '한국전력 up&down' +'.csv', 'r', encoding = 'utf-8') as f:\n",
    "    doc = f.read()\n",
    "    한국전력_up_down = doc.split('\\n')\n",
    "\n",
    "한국전력_ud = []\n",
    "for i in 한국전력_up_down:\n",
    "    temp = i.split(',')\n",
    "    한국전력_ud.append(temp[1])\n",
    "    \n",
    "for i in range(len(한국전력_ud)):\n",
    "    if 한국전력_ud[i] == '2':\n",
    "        한국전력_ud[i] = 0\n",
    "    elif 한국전력_ud[i] == '1':\n",
    "        한국전력_ud[i] = 1\n",
    "    else:\n",
    "        한국전력_ud[i] = 0 \n",
    "    \n",
    "    \n",
    "    \n",
    "    \n",
    "######현대중공업##########    \n",
    "with open(my_path + '/' + '현대중공업 up&down' +'.csv', 'r', encoding = 'utf-8') as f:\n",
    "    doc = f.read()\n",
    "    현대중공업_up_down = doc.split('\\n')\n",
    "    \n",
    "현대중공업_ud = []\n",
    "for i in 현대중공업_up_down:\n",
    "    temp = i.split(',')\n",
    "    현대중공업_ud.append(temp[1])\n",
    "    \n",
    "for i in range(len(현대중공업_ud)):\n",
    "    if 현대중공업_ud[i] == '2':\n",
    "        현대중공업_ud[i] = 0\n",
    "    elif 현대중공업_ud[i] == '1':\n",
    "        현대중공업_ud[i] = 1\n",
    "    else:\n",
    "        현대중공업_ud[i] = 0 \n",
    "    \n",
    "    \n",
    "#######현대차##########\n",
    "with open(my_path + '/' + '현대차 up&down' +'.csv', 'r', encoding = 'utf-8') as f:\n",
    "    doc = f.read()\n",
    "    현대차_up_down = doc.split('\\n')\n",
    "    \n",
    "현대차_ud = []\n",
    "for i in 현대차_up_down:\n",
    "    temp = i.split(',')\n",
    "    현대차_ud.append(temp[1])\n",
    "\n",
    "for i in range(len(현대차_ud)):\n",
    "    if 현대차_ud[i] == '2':\n",
    "        현대차_ud[i] = 0\n",
    "    elif 현대차_ud[i] == '1':\n",
    "        현대차_ud[i] = 1\n",
    "    else:\n",
    "        현대차_ud[i] = 0\n",
    "\n",
    "        \n",
    "        \n",
    "        \n",
    "########LG디스플레이########\n",
    "with open(my_path + '/' + 'LG디스플레이 up&down' +'.csv', 'r', encoding = 'utf-8') as f:\n",
    "    doc = f.read()\n",
    "    LG디스플레이_up_down = doc.split('\\n')\n",
    "    \n",
    "LG디스플레이_ud = []\n",
    "for i in LG디스플레이_up_down:\n",
    "    temp = i.split(',')\n",
    "    LG디스플레이_ud.append(temp[1])\n",
    "    \n",
    "for i in range(len(LG디스플레이_ud)):\n",
    "    if LG디스플레이_ud[i] == '2':\n",
    "        LG디스플레이_ud[i] = 0\n",
    "    elif LG디스플레이_ud[i] == '1':\n",
    "        LG디스플레이_ud[i] = 1\n",
    "    else:\n",
    "        LG디스플레이_ud[i] = 0"
   ]
  },
  {
   "cell_type": "code",
   "execution_count": 96,
   "metadata": {},
   "outputs": [
    {
     "data": {
      "text/plain": [
       "0.575"
      ]
     },
     "execution_count": 96,
     "metadata": {},
     "output_type": "execute_result"
    }
   ],
   "source": [
    "#현대차 정확도\n",
    "final_score_현대차 = []\n",
    "for i in range(len(article_kosac_score_현대차)):\n",
    "    score = (0.7*float(article_kosac_score_현대차[i])) + (0.3*float(report_kosac_score_현대차[i]))\n",
    "    final_score_현대차.append(score)\n",
    "    \n",
    "score_ud_현대차 = []\n",
    "for i in final_score_현대차:\n",
    "    if i > 0.65:\n",
    "        score_ud_현대차.append(1)\n",
    "    else:\n",
    "        score_ud_현대차.append(0)\n",
    "        \n",
    "acc_현대차 = np.mean(np.equal(np.array(score_ud_현대차), np.array(현대차_ud)))\n",
    "acc_현대차"
   ]
  },
  {
   "cell_type": "code",
   "execution_count": 97,
   "metadata": {},
   "outputs": [
    {
     "data": {
      "text/plain": [
       "[1,\n",
       " 1,\n",
       " 1,\n",
       " 1,\n",
       " 1,\n",
       " 1,\n",
       " 1,\n",
       " 1,\n",
       " 1,\n",
       " 1,\n",
       " 1,\n",
       " 1,\n",
       " 1,\n",
       " 1,\n",
       " 1,\n",
       " 1,\n",
       " 1,\n",
       " 1,\n",
       " 1,\n",
       " 1,\n",
       " 1,\n",
       " 1,\n",
       " 1,\n",
       " 1,\n",
       " 1,\n",
       " 1,\n",
       " 0,\n",
       " 1,\n",
       " 1,\n",
       " 0,\n",
       " 0,\n",
       " 0,\n",
       " 0,\n",
       " 0,\n",
       " 0,\n",
       " 0,\n",
       " 0,\n",
       " 0,\n",
       " 0,\n",
       " 1]"
      ]
     },
     "execution_count": 97,
     "metadata": {},
     "output_type": "execute_result"
    }
   ],
   "source": [
    "score_ud_현대차"
   ]
  },
  {
   "cell_type": "code",
   "execution_count": 98,
   "metadata": {},
   "outputs": [
    {
     "data": {
      "text/plain": [
       "0.525"
      ]
     },
     "execution_count": 98,
     "metadata": {},
     "output_type": "execute_result"
    }
   ],
   "source": [
    "#LG디스플레이 정확도\n",
    "final_score_LG디스플레이 = []\n",
    "for i in range(len(article_kosac_score_LG디스플레이)):\n",
    "    score = (0.7*float(article_kosac_score_LG디스플레이[i])) + (0.3*float(report_kosac_score_LG디스플레이[i]))\n",
    "    final_score_LG디스플레이.append(score)\n",
    "    \n",
    "score_ud_LG디스플레이 = []\n",
    "for i in final_score_LG디스플레이:\n",
    "    if i > 0.65:\n",
    "        score_ud_LG디스플레이.append(1)\n",
    "    else:\n",
    "        score_ud_LG디스플레이.append(0)\n",
    "        \n",
    "acc_LG디스플레이 = np.mean(np.equal(np.array(score_ud_LG디스플레이), np.array(LG디스플레이_ud)))\n",
    "acc_LG디스플레이"
   ]
  },
  {
   "cell_type": "code",
   "execution_count": 54,
   "metadata": {},
   "outputs": [
    {
     "data": {
      "text/plain": [
       "0.525"
      ]
     },
     "execution_count": 54,
     "metadata": {},
     "output_type": "execute_result"
    }
   ],
   "source": [
    "#현대중공업 정확도\n",
    "final_score_현대중공업 = []\n",
    "for i in range(len(article_kosac_score_현대중공업)):\n",
    "    score = (0.7*float(article_kosac_score_현대중공업[i])) + (0.3*float(report_kosac_score_현대중공업[i]))\n",
    "    final_score_현대중공업.append(score)\n",
    "    \n",
    "score_ud_현대중공업 = []\n",
    "for i in final_score_현대중공업:\n",
    "    if i > 0.5:\n",
    "        score_ud_현대중공업.append(1)\n",
    "    else:\n",
    "        score_ud_현대중공업.append(0)\n",
    "        \n",
    "acc_현대중공업 = np.mean(np.equal(np.array(score_ud_현대중공업), np.array(현대중공업_ud)))\n",
    "acc_현대중공업"
   ]
  },
  {
   "cell_type": "code",
   "execution_count": 76,
   "metadata": {},
   "outputs": [
    {
     "data": {
      "text/plain": [
       "0.6923076923076923"
      ]
     },
     "execution_count": 76,
     "metadata": {},
     "output_type": "execute_result"
    }
   ],
   "source": [
    "#한국전력 정확도\n",
    "한국전력_ud = 한국전력_ud[:39]\n",
    "final_score_한국전력 = []\n",
    "for i in range(len(article_kosac_score_한국전력)):\n",
    "    score = (0.7*float(article_kosac_score_한국전력[i])) + (0.3*float(report_kosac_score_한국전력[i]))\n",
    "    final_score_한국전력.append(score)\n",
    "    \n",
    "score_ud_한국전력 = []\n",
    "for i in final_score_한국전력:\n",
    "    if i > 0.7:\n",
    "        score_ud_한국전력.append(1)\n",
    "    else:\n",
    "        score_ud_한국전력.append(0)\n",
    "        \n",
    "acc_한국전력 = np.mean(np.equal(np.array(score_ud_한국전력), np.array(한국전력_ud)))\n",
    "acc_한국전력"
   ]
  },
  {
   "cell_type": "code",
   "execution_count": 70,
   "metadata": {},
   "outputs": [
    {
     "data": {
      "text/plain": [
       "40"
      ]
     },
     "execution_count": 70,
     "metadata": {},
     "output_type": "execute_result"
    }
   ],
   "source": []
  },
  {
   "cell_type": "code",
   "execution_count": null,
   "metadata": {},
   "outputs": [],
   "source": []
  }
 ],
 "metadata": {
  "kernelspec": {
   "display_name": "Python 3",
   "language": "python",
   "name": "python3"
  },
  "language_info": {
   "codemirror_mode": {
    "name": "ipython",
    "version": 3
   },
   "file_extension": ".py",
   "mimetype": "text/x-python",
   "name": "python",
   "nbconvert_exporter": "python",
   "pygments_lexer": "ipython3",
   "version": "3.6.6"
  }
 },
 "nbformat": 4,
 "nbformat_minor": 2
}
